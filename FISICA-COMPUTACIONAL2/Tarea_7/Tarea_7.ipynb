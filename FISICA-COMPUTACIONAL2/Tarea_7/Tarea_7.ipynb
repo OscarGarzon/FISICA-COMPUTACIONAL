{
 "metadata": {
  "name": ""
 },
 "nbformat": 3,
 "nbformat_minor": 0,
 "worksheets": [
  {
   "cells": [
    {
     "cell_type": "code",
     "collapsed": false,
     "input": [
      "%pylab inline\n",
      "import numpy as np"
     ],
     "language": "python",
     "metadata": {},
     "outputs": [
      {
       "output_type": "stream",
       "stream": "stdout",
       "text": [
        "Populating the interactive namespace from numpy and matplotlib\n"
       ]
      }
     ],
     "prompt_number": 3
    },
    {
     "cell_type": "code",
     "collapsed": false,
     "input": [
      "n_x = 200\n",
      "n_t = 200\n",
      "u_0=3\n",
      "nu=0.09\n",
      "\n",
      "x = linspace(0,2, n_x)\n",
      "u = ones(n_x)\n",
      "un = ones(n_x) \n",
      "\n",
      "dx =2*np.pi/(n_x-1)\n",
      "dt = dx*nu\n",
      "\n",
      "\n",
      "\n",
      "#Condicion Inicial\n",
      "u=u_0*sin(pi*x)\n"
     ],
     "language": "python",
     "metadata": {},
     "outputs": [],
     "prompt_number": 10
    },
    {
     "cell_type": "code",
     "collapsed": false,
     "input": [
      "plot (x,u)"
     ],
     "language": "python",
     "metadata": {},
     "outputs": [
      {
       "metadata": {},
       "output_type": "pyout",
       "prompt_number": 11,
       "text": [
        "[<matplotlib.lines.Line2D at 0x3386750>]"
       ]
      },
      {
       "metadata": {},
       "output_type": "display_data",
       "png": "[encoded data removed]",
       "text": [
        "<matplotlib.figure.Figure at 0x32be2d0>"
       ]
      }
     ],
     "prompt_number": 11
    },
    {
     "cell_type": "code",
     "collapsed": false,
     "input": [
      "for n in range(n_t):\n",
      "    un=u.copy()\n",
      "    for i in range(n_x-1):\n",
      "        u[i] = un[i] - un[i] * dt/dx *(un[i] - un[i-1]) + nu*dt/dx**2*\\\n",
      "                (un[i+1]-2*un[i]+un[i-1])\n",
      "        u[-1] = un[-1] - un[-1] * dt/dx * (un[-1] - un[-2]) + nu*dt/dx**2*\\\n",
      "                (un[0]-2*un[-1]+un[-2])"
     ],
     "language": "python",
     "metadata": {},
     "outputs": [],
     "prompt_number": 12
    },
    {
     "cell_type": "code",
     "collapsed": false,
     "input": [
      "plot(x,u)\n",
      "print u\n",
      "print \"BATMAN\""
     ],
     "language": "python",
     "metadata": {},
     "outputs": [
      {
       "output_type": "stream",
       "stream": "stdout",
       "text": [
        "[ 0.01703707  0.05085634  0.0846759   0.11849696  0.15232064  0.18614786\n",
        "  0.21997937  0.25381572  0.28765722  0.32150394  0.35535569  0.38921202\n",
        "  0.42307222  0.45693529  0.49079999  0.5246648   0.55852796  0.59238746\n",
        "  0.62624107  0.66008633  0.69392059  0.72774103  0.76154464  0.79532825\n",
        "  0.82908859  0.86282223  0.89652566  0.93019526  0.96382734  0.99741813\n",
        "  1.03096381  1.06446051  1.0979043   1.13129121  1.16461724  1.19787836\n",
        "  1.23107048  1.26418951  1.29723129  1.33019163  1.36306628  1.39585097\n",
        "  1.42854132  1.46113292  1.49362127  1.52600176  1.55826972  1.59042033\n",
        "  1.62244865  1.65434962  1.68611801  1.71774842  1.74923525  1.78057272\n",
        "  1.81175479  1.84277519  1.87362739  1.90430453  1.93479945  1.96510464\n",
        "  1.99521219  2.02511378  2.05480063  2.08426346  2.11349244  2.14247713\n",
        "  2.17120645  2.19966858  2.22785088  2.25573985  2.28332099  2.31057869\n",
        "  2.3374961   2.364055    2.39023557  2.41601618  2.44137315  2.46628031\n",
        "  2.49070858  2.51462527  2.53799298  2.56076781  2.58289608  2.60430786\n",
        "  2.62490354  2.64452493  2.66289105  2.67945313  2.69306292  2.70120884\n",
        "  2.69825431  2.67140333  2.59168243  2.39506378  1.94976747  1.03337348\n",
        " -0.52670462 -2.24945885 -2.94046328 -2.94404443 -2.93476172 -2.92634856\n",
        " -2.91588507 -2.90377602 -2.89021234 -2.8753497  -2.85931749 -2.84222471\n",
        " -2.82416437 -2.80521671 -2.78545158 -2.76493028 -2.74370699 -2.72182992\n",
        " -2.69934218 -2.67628254 -2.65268603 -2.62858442 -2.60400666 -2.5789792\n",
        " -2.5535263  -2.52767028 -2.50143173 -2.47482969 -2.44788185 -2.42060462\n",
        " -2.3930133  -2.36512218 -2.33694464 -2.3084932  -2.27977963 -2.250815\n",
        " -2.22160975 -2.1921737  -2.16251617 -2.13264597 -2.10257144 -2.07230051\n",
        " -2.0418407  -2.0111992  -1.98038283 -1.94939813 -1.91825131 -1.88694836\n",
        " -1.855495   -1.82389671 -1.79215877 -1.76028629 -1.72828417 -1.69615717\n",
        " -1.66390989 -1.63154681 -1.5990723  -1.56649061 -1.53380593 -1.50102235\n",
        " -1.46814392 -1.43517463 -1.40211846 -1.36897934 -1.33576119 -1.30246794\n",
        " -1.26910353 -1.23567188 -1.20217695 -1.16862271 -1.13501315 -1.10135228\n",
        " -1.0676441  -1.03389263 -1.0001019  -0.96627589 -0.93241857 -0.89853386\n",
        " -0.86462559 -0.83069754 -0.79675336 -0.76279655 -0.72883048 -0.69485834\n",
        " -0.66088311 -0.62690754 -0.59293413 -0.55896515 -0.52500255 -0.49104802\n",
        " -0.45710294 -0.42316837 -0.38924509 -0.35533357 -0.32143399 -0.28754624\n",
        " -0.25366995 -0.21980453 -0.18594916 -0.15210283 -0.11826439 -0.08443256\n",
        " -0.05060598 -0.01678324]\n",
        "BATMAN\n"
       ]
      },
      {
       "metadata": {},
       "output_type": "display_data",
       "png": "[encoded data removed]",
       "text": [
        "<matplotlib.figure.Figure at 0x32af910>"
       ]
      }
     ],
     "prompt_number": 13
    },
    {
     "cell_type": "code",
     "collapsed": false,
     "input": [],
     "language": "python",
     "metadata": {},
     "outputs": [],
     "prompt_number": 13
    },
    {
     "cell_type": "code",
     "collapsed": false,
     "input": [],
     "language": "python",
     "metadata": {},
     "outputs": [
      {
       "metadata": {},
       "output_type": "pyout",
       "prompt_number": 53,
       "text": [
        "0.001"
       ]
      }
     ],
     "prompt_number": 53
    },
    {
     "cell_type": "code",
     "collapsed": false,
     "input": [],
     "language": "python",
     "metadata": {},
     "outputs": [
      {
       "metadata": {},
       "output_type": "pyout",
       "prompt_number": 42,
       "text": [
        "5.0273993263284895e-31"
       ]
      }
     ],
     "prompt_number": 42
    },
    {
     "cell_type": "code",
     "collapsed": false,
     "input": [
      "\n"
     ],
     "language": "python",
     "metadata": {},
     "outputs": [],
     "prompt_number": 43
    },
    {
     "cell_type": "code",
     "collapsed": false,
     "input": [],
     "language": "python",
     "metadata": {},
     "outputs": [
      {
       "metadata": {},
       "output_type": "pyout",
       "prompt_number": 44,
       "text": [
        "132749351440.00002"
       ]
      }
     ],
     "prompt_number": 44
    },
    {
     "cell_type": "code",
     "collapsed": false,
     "input": [],
     "language": "python",
     "metadata": {},
     "outputs": [
      {
       "metadata": {},
       "output_type": "pyout",
       "prompt_number": 56,
       "text": [
        "46503.95978930771"
       ]
      }
     ],
     "prompt_number": 56
    },
    {
     "cell_type": "code",
     "collapsed": false,
     "input": [],
     "language": "python",
     "metadata": {},
     "outputs": [
      {
       "metadata": {},
       "output_type": "pyout",
       "prompt_number": 55,
       "text": [
        "1.9389909857956204e+18"
       ]
      }
     ],
     "prompt_number": 55
    },
    {
     "cell_type": "code",
     "collapsed": false,
     "input": [],
     "language": "python",
     "metadata": {},
     "outputs": [],
     "prompt_number": 34
    },
    {
     "cell_type": "code",
     "collapsed": false,
     "input": [],
     "language": "python",
     "metadata": {},
     "outputs": []
    }
   ],
   "metadata": {}
  }
 ]
}